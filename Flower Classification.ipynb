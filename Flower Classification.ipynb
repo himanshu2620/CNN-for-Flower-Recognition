{
 "cells": [
  {
   "cell_type": "code",
   "execution_count": 1,
   "metadata": {},
   "outputs": [
    {
     "name": "stderr",
     "output_type": "stream",
     "text": [
      "C:\\Anaconda3\\lib\\site-packages\\h5py\\__init__.py:34: FutureWarning: Conversion of the second argument of issubdtype from `float` to `np.floating` is deprecated. In future, it will be treated as `np.float64 == np.dtype(float).type`.\n",
      "  from ._conv import register_converters as _register_converters\n",
      "Using TensorFlow backend.\n"
     ]
    }
   ],
   "source": [
    "import numpy as np\n",
    "import pandas as pd\n",
    "import matplotlib.pyplot as plt\n",
    "from matplotlib import style\n",
    "import seaborn as sns\n",
    "from sklearn.model_selection import train_test_split\n",
    "from sklearn.model_selection import KFold\n",
    "from sklearn.metrics import accuracy_score,precision_score,recall_score,confusion_matrix,roc_curve,roc_auc_score\n",
    "from sklearn.model_selection import GridSearchCV\n",
    "from sklearn.preprocessing import LabelEncoder\n",
    "\n",
    "#preprocess.\n",
    "from keras.preprocessing.image import ImageDataGenerator ,  array_to_img, img_to_array, load_img\n",
    "\n",
    "#dl libraraies\n",
    "from keras import backend as K\n",
    "from keras.models import Sequential\n",
    "from keras.layers import Dense\n",
    "from keras.optimizers import Adam,SGD,Adagrad,Adadelta,RMSprop\n",
    "from keras.utils import to_categorical\n",
    "\n",
    "# specifically for cnn\n",
    "from keras.layers import Dropout, Flatten,Activation\n",
    "from keras.layers import Conv2D, MaxPooling2D, BatchNormalization\n",
    " \n",
    "import tensorflow as tf\n",
    "import random as rn\n",
    "\n",
    "# specifically for manipulating zipped images and getting numpy arrays of pixel values of images.\n",
    "import numpy as np  \n",
    "import os                   \n",
    "from random import shuffle  \n",
    "from zipfile import ZipFile\n",
    "from PIL import Image"
   ]
  },
  {
   "cell_type": "code",
   "execution_count": 2,
   "metadata": {
    "collapsed": true
   },
   "outputs": [],
   "source": [
    "from keras.regularizers import l2\n",
    "from matplotlib.image import imread\n",
    "import cv2\n",
    "%matplotlib inline"
   ]
  },
  {
   "cell_type": "code",
   "execution_count": 3,
   "metadata": {
    "collapsed": true
   },
   "outputs": [],
   "source": [
    "X=[]\n",
    "Z=[]\n",
    "img_size=64\n",
    "daisy_dir='flowers/daisy'\n",
    "sunflower_dir='flowers/sunflower'\n",
    "tulip_dir='flowers/tulip'\n",
    "dandelion_dir='flowers/dandelion'\n",
    "rose_dir='flowers/rose'"
   ]
  },
  {
   "cell_type": "code",
   "execution_count": 4,
   "metadata": {
    "collapsed": true
   },
   "outputs": [],
   "source": [
    "def process_train_data(flower_type,DIR):\n",
    "    for img in os.listdir(DIR):\n",
    "        path = os.path.join(DIR,img)\n",
    "        img = cv2.imread(path,cv2.IMREAD_COLOR)\n",
    "        img = cv2.resize(img, (img_size,img_size))\n",
    "        X.append(np.array(img))\n",
    "        Z.append(str(flower_type))"
   ]
  },
  {
   "cell_type": "code",
   "execution_count": 5,
   "metadata": {
    "collapsed": true
   },
   "outputs": [],
   "source": [
    "process_train_data('daisy',daisy_dir)"
   ]
  },
  {
   "cell_type": "code",
   "execution_count": 6,
   "metadata": {
    "collapsed": true
   },
   "outputs": [],
   "source": [
    "process_train_data('sunflower',sunflower_dir)"
   ]
  },
  {
   "cell_type": "code",
   "execution_count": 7,
   "metadata": {
    "collapsed": true
   },
   "outputs": [],
   "source": [
    "process_train_data('tulip',tulip_dir)"
   ]
  },
  {
   "cell_type": "code",
   "execution_count": 8,
   "metadata": {
    "collapsed": true
   },
   "outputs": [],
   "source": [
    "process_train_data('dandelion',dandelion_dir)\n"
   ]
  },
  {
   "cell_type": "code",
   "execution_count": 9,
   "metadata": {
    "collapsed": true
   },
   "outputs": [],
   "source": [
    "process_train_data('rose',rose_dir)"
   ]
  },
  {
   "cell_type": "code",
   "execution_count": 11,
   "metadata": {
    "collapsed": true
   },
   "outputs": [],
   "source": [
    "#labelling\n",
    "enc = LabelEncoder()\n",
    "Y = enc.fit_transform(Z)\n",
    "Y = to_categorical(Y,5)\n",
    "X = np.array(X)\n",
    "X = X.astype('float32')\n",
    "#normalizing\n",
    "X = X/255."
   ]
  },
  {
   "cell_type": "code",
   "execution_count": 12,
   "metadata": {
    "collapsed": true
   },
   "outputs": [],
   "source": [
    "x_train,x_test,y_train,y_test=train_test_split(X,Y,test_size=0.2,random_state=13)"
   ]
  },
  {
   "cell_type": "code",
   "execution_count": 13,
   "metadata": {},
   "outputs": [
    {
     "data": {
      "text/plain": [
       "(3458, 5)"
      ]
     },
     "execution_count": 13,
     "metadata": {},
     "output_type": "execute_result"
    }
   ],
   "source": [
    "y_train.shape"
   ]
  },
  {
   "cell_type": "code",
   "execution_count": 14,
   "metadata": {},
   "outputs": [
    {
     "data": {
      "text/plain": [
       "(865, 64, 64, 3)"
      ]
     },
     "execution_count": 14,
     "metadata": {},
     "output_type": "execute_result"
    }
   ],
   "source": [
    "x_test.shape"
   ]
  },
  {
   "cell_type": "code",
   "execution_count": 19,
   "metadata": {
    "collapsed": true
   },
   "outputs": [],
   "source": [
    "def CNN():\n",
    "    cnn1 = Sequential()\n",
    "    cnn1.add(Conv2D(32,kernel_size=(5,5),padding='same', activation='relu',input_shape=(img_size,img_size,3)))\n",
    "    cnn1.add(MaxPooling2D(pool_size=(2,2)))\n",
    "    cnn1.add(Conv2D(64,kernel_size=(3,3),padding ='same' , activation='relu'))\n",
    "    cnn1.add(MaxPooling2D(strides=(2,2),pool_size=(2,2)))\n",
    "    cnn1.add(Dropout(0.35))\n",
    "    cnn1.add(Conv2D(96,kernel_size=(3,3),padding='same',activation='relu'))\n",
    "    cnn1.add(MaxPooling2D(strides=(2,2),pool_size=(2,2)))\n",
    "    cnn1.add(Conv2D(96,kernel_size=(3,3),padding='same',activation='relu'))\n",
    "    cnn1.add(MaxPooling2D(strides=(2,2),pool_size=(2,2)))\n",
    "    cnn1.add(Dropout(0.35))\n",
    "    cnn1.add(Flatten())\n",
    "    cnn1.add(Dense(512,activation='relu'))\n",
    "    cnn1.add(Dense(2*64,activation='relu'))\n",
    "    cnn1.add(Dense(5,activation='softmax'))\n",
    "    cnn1.compile(optimizer=Adam(lr=0.001),loss='categorical_crossentropy',metrics=['accuracy'])\n",
    "    return cnn1"
   ]
  },
  {
   "cell_type": "code",
   "execution_count": 16,
   "metadata": {
    "collapsed": true
   },
   "outputs": [],
   "source": [
    "from keras.callbacks import ReduceLROnPlateau\n",
    "red_lr= ReduceLROnPlateau(monitor='val_acc',patience=3,verbose=1,factor=0.1)"
   ]
  },
  {
   "cell_type": "code",
   "execution_count": 17,
   "metadata": {
    "collapsed": true
   },
   "outputs": [],
   "source": [
    "datagen = ImageDataGenerator(\n",
    "        featurewise_center=False,  # set input mean to 0 over the dataset\n",
    "        samplewise_center=False,  # set each sample mean to 0\n",
    "        featurewise_std_normalization=False,  # divide inputs by std of the dataset\n",
    "        samplewise_std_normalization=False,  # divide each input by its std\n",
    "        zca_whitening=False,  # apply ZCA whitening\n",
    "        rotation_range=10,  # randomly rotate images in the range (degrees, 0 to 180)\n",
    "        zoom_range = 0.1, # Randomly zoom image \n",
    "        width_shift_range=0.2,  # randomly shift images horizontally (fraction of total width)\n",
    "        height_shift_range=0.2,  # randomly shift images vertically (fraction of total height)\n",
    "        horizontal_flip=True,  # randomly flip images\n",
    "        vertical_flip=False)  # randomly flip images\n",
    "\n",
    "\n",
    "datagen.fit(x_train)"
   ]
  },
  {
   "cell_type": "code",
   "execution_count": 20,
   "metadata": {},
   "outputs": [
    {
     "name": "stdout",
     "output_type": "stream",
     "text": [
      "_________________________________________________________________\n",
      "Layer (type)                 Output Shape              Param #   \n",
      "=================================================================\n",
      "conv2d_5 (Conv2D)            (None, 64, 64, 32)        2432      \n",
      "_________________________________________________________________\n",
      "max_pooling2d_5 (MaxPooling2 (None, 32, 32, 32)        0         \n",
      "_________________________________________________________________\n",
      "conv2d_6 (Conv2D)            (None, 32, 32, 64)        18496     \n",
      "_________________________________________________________________\n",
      "max_pooling2d_6 (MaxPooling2 (None, 16, 16, 64)        0         \n",
      "_________________________________________________________________\n",
      "dropout_3 (Dropout)          (None, 16, 16, 64)        0         \n",
      "_________________________________________________________________\n",
      "conv2d_7 (Conv2D)            (None, 16, 16, 96)        55392     \n",
      "_________________________________________________________________\n",
      "max_pooling2d_7 (MaxPooling2 (None, 8, 8, 96)          0         \n",
      "_________________________________________________________________\n",
      "conv2d_8 (Conv2D)            (None, 8, 8, 96)          83040     \n",
      "_________________________________________________________________\n",
      "max_pooling2d_8 (MaxPooling2 (None, 4, 4, 96)          0         \n",
      "_________________________________________________________________\n",
      "dropout_4 (Dropout)          (None, 4, 4, 96)          0         \n",
      "_________________________________________________________________\n",
      "flatten_1 (Flatten)          (None, 1536)              0         \n",
      "_________________________________________________________________\n",
      "dense_1 (Dense)              (None, 512)               786944    \n",
      "_________________________________________________________________\n",
      "dense_2 (Dense)              (None, 128)               65664     \n",
      "_________________________________________________________________\n",
      "dense_3 (Dense)              (None, 5)                 645       \n",
      "=================================================================\n",
      "Total params: 1,012,613\n",
      "Trainable params: 1,012,613\n",
      "Non-trainable params: 0\n",
      "_________________________________________________________________\n"
     ]
    }
   ],
   "source": [
    "mode = CNN()\n",
    "mode.summary()"
   ]
  },
  {
   "cell_type": "code",
   "execution_count": 21,
   "metadata": {},
   "outputs": [
    {
     "name": "stdout",
     "output_type": "stream",
     "text": [
      "WARNING:tensorflow:From C:\\Anaconda3\\lib\\site-packages\\tensorflow\\python\\ops\\math_ops.py:3066: to_int32 (from tensorflow.python.ops.math_ops) is deprecated and will be removed in a future version.\n",
      "Instructions for updating:\n",
      "Use tf.cast instead.\n",
      "Train on 3458 samples, validate on 865 samples\n",
      "Epoch 1/20\n",
      "3458/3458 [==============================] - 48s 14ms/step - loss: 1.4286 - acc: 0.3412 - val_loss: 1.2392 - val_acc: 0.4913\n",
      "Epoch 2/20\n",
      "3458/3458 [==============================] - 47s 14ms/step - loss: 1.1605 - acc: 0.4954 - val_loss: 1.2244 - val_acc: 0.5098\n",
      "Epoch 3/20\n",
      "3458/3458 [==============================] - 45s 13ms/step - loss: 1.0949 - acc: 0.5495 - val_loss: 1.0437 - val_acc: 0.5676\n",
      "Epoch 4/20\n",
      "3458/3458 [==============================] - 46s 13ms/step - loss: 1.0279 - acc: 0.5862 - val_loss: 0.9914 - val_acc: 0.5873\n",
      "Epoch 5/20\n",
      "3458/3458 [==============================] - 51s 15ms/step - loss: 0.9401 - acc: 0.6243 - val_loss: 1.0301 - val_acc: 0.5746\n",
      "Epoch 6/20\n",
      "3458/3458 [==============================] - 48s 14ms/step - loss: 0.9287 - acc: 0.6180 - val_loss: 0.9152 - val_acc: 0.6335\n",
      "Epoch 7/20\n",
      "3458/3458 [==============================] - 51s 15ms/step - loss: 0.8764 - acc: 0.6466 - val_loss: 0.8481 - val_acc: 0.6636\n",
      "Epoch 8/20\n",
      "3458/3458 [==============================] - 48s 14ms/step - loss: 0.8085 - acc: 0.6816 - val_loss: 0.9430 - val_acc: 0.6555\n",
      "Epoch 9/20\n",
      "3458/3458 [==============================] - 48s 14ms/step - loss: 0.8056 - acc: 0.6909 - val_loss: 0.8355 - val_acc: 0.6960\n",
      "Epoch 10/20\n",
      "3458/3458 [==============================] - 55s 16ms/step - loss: 0.7640 - acc: 0.7131 - val_loss: 0.8734 - val_acc: 0.6855\n",
      "Epoch 11/20\n",
      "3458/3458 [==============================] - 49s 14ms/step - loss: 0.8100 - acc: 0.6874 - val_loss: 0.8752 - val_acc: 0.6671\n",
      "Epoch 12/20\n",
      "3458/3458 [==============================] - 58s 17ms/step - loss: 0.7777 - acc: 0.6958 - val_loss: 0.7689 - val_acc: 0.7064\n",
      "Epoch 13/20\n",
      "3458/3458 [==============================] - 51s 15ms/step - loss: 0.6569 - acc: 0.7525 - val_loss: 0.7513 - val_acc: 0.7121\n",
      "Epoch 14/20\n",
      "3458/3458 [==============================] - 54s 16ms/step - loss: 0.6425 - acc: 0.7553 - val_loss: 0.8632 - val_acc: 0.6740\n",
      "Epoch 15/20\n",
      "3458/3458 [==============================] - 56s 16ms/step - loss: 0.6158 - acc: 0.7675 - val_loss: 0.7483 - val_acc: 0.7179\n",
      "Epoch 16/20\n",
      "3458/3458 [==============================] - 53s 15ms/step - loss: 0.5601 - acc: 0.7860 - val_loss: 0.7845 - val_acc: 0.7179\n",
      "Epoch 17/20\n",
      "3458/3458 [==============================] - 57s 16ms/step - loss: 0.6109 - acc: 0.7568 - val_loss: 0.7666 - val_acc: 0.7133\n",
      "Epoch 18/20\n",
      "3458/3458 [==============================] - 50s 14ms/step - loss: 0.4981 - acc: 0.8086 - val_loss: 0.7333 - val_acc: 0.7422\n",
      "Epoch 19/20\n",
      "3458/3458 [==============================] - 49s 14ms/step - loss: 0.4530 - acc: 0.8259 - val_loss: 0.8835 - val_acc: 0.6971\n",
      "Epoch 20/20\n",
      "3458/3458 [==============================] - 46s 13ms/step - loss: 0.5962 - acc: 0.7762 - val_loss: 0.7185 - val_acc: 0.7364\n"
     ]
    }
   ],
   "source": [
    "History = mode.fit(x=x_train,y=y_train,epochs=20,batch_size=64,validation_data=(x_test,y_test))"
   ]
  },
  {
   "cell_type": "code",
   "execution_count": 22,
   "metadata": {},
   "outputs": [
    {
     "data": {
      "image/png": "[encoded data removed]",
      "text/plain": [
       "<matplotlib.figure.Figure at 0x96a57a8358>"
      ]
     },
     "metadata": {},
     "output_type": "display_data"
    }
   ],
   "source": [
    "plt.plot(History.history['acc'])\n",
    "plt.plot(History.history['val_acc'])\n",
    "plt.title('Model Accuracy')\n",
    "plt.ylabel('Accuracy')\n",
    "plt.xlabel('Epochs')\n",
    "plt.legend(['train', 'test'])\n",
    "plt.show()"
   ]
  },
  {
   "cell_type": "code",
   "execution_count": 23,
   "metadata": {},
   "outputs": [
    {
     "name": "stdout",
     "output_type": "stream",
     "text": [
      "865/865 [==============================] - 6s 7ms/step\n",
      "\n",
      "Loss = 0.7185051986333951\n",
      "Test Accuracy = 0.7364161849710983\n"
     ]
    }
   ],
   "source": [
    "preds3 = mode.evaluate(x=x_test,y=y_test)\n",
    "print()\n",
    "print (\"Loss = \" + str(preds3[0]))\n",
    "print (\"Test Accuracy = \" + str(preds3[1]))"
   ]
  }
 ],
 "metadata": {
  "kernelspec": {
   "display_name": "Python 3",
   "language": "python",
   "name": "python3"
  },
  "language_info": {
   "codemirror_mode": {
    "name": "ipython",
    "version": 3
   },
   "file_extension": ".py",
   "mimetype": "text/x-python",
   "name": "python",
   "nbconvert_exporter": "python",
   "pygments_lexer": "ipython3",
   "version": "3.6.8"
  }
 },
 "nbformat": 4,
 "nbformat_minor": 2
}
